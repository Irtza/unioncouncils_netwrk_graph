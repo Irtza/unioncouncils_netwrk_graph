{
 "cells": [
  {
   "cell_type": "code",
   "execution_count": 1,
   "metadata": {
    "collapsed": false
   },
   "outputs": [],
   "source": [
    "import pandas as pd\n",
    "import networkx as nx\n",
    "from plotly.offline import download_plotlyjs, init_notebook_mode, plot, iplot"
   ]
  },
  {
   "cell_type": "code",
   "execution_count": 2,
   "metadata": {
    "collapsed": false
   },
   "outputs": [],
   "source": [
    "import matplotlib.pyplot as plt\n",
    "\n",
    "def draw_graph(graph, labels=None, cityname = \"City\" , graph_layout='spring',\n",
    "               node_size=1600, node_color='blue', node_alpha=0.3,\n",
    "               node_text_size=12,\n",
    "               edge_color='blue', edge_alpha=0.3, edge_tickness=1,\n",
    "               edge_text_pos=0.3,\n",
    "               text_font='sans-serif'):\n",
    "\n",
    "    # create networkx graph\n",
    "    G=nx.Graph()\n",
    "\n",
    "    # add edges\n",
    "    for edge in graph:\n",
    "        G.add_edge(edge[0], edge[1])\n",
    "\n",
    "    # these are different layouts for the network you may try\n",
    "    # shell seems to work best\n",
    "    if graph_layout == 'spring':\n",
    "        graph_pos=nx.spring_layout(G)\n",
    "    elif graph_layout == 'spectral':\n",
    "        graph_pos=nx.spectral_layout(G)\n",
    "    elif graph_layout == 'random':\n",
    "        graph_pos=nx.random_layout(G)\n",
    "    else:\n",
    "        graph_pos=nx.shell_layout(G)\n",
    "\n",
    "    # draw graph\n",
    "    nx.draw_networkx_nodes(G,graph_pos,node_size=node_size, \n",
    "                           alpha=node_alpha, node_color=node_color)\n",
    "    nx.draw_networkx_edges(G,graph_pos,width=edge_tickness,\n",
    "                           alpha=edge_alpha,edge_color=edge_color)\n",
    "    nx.draw_networkx_labels(G, graph_pos,font_size=node_text_size,\n",
    "                            font_family=text_font)\n",
    "\n",
    "    if labels is None:\n",
    "        labels = range(len(graph))\n",
    "    \n",
    "    plt.title(cityname+\"'s Union Council's and chairmans\")\n",
    "    edge_labels = dict(zip(graph, labels))\n",
    "    nx.draw_networkx_edge_labels(G, graph_pos, edge_labels=edge_labels, \n",
    "                                 label_pos=edge_text_pos)\n",
    "\n",
    "    # show graph\n",
    "    fig = plt.gcf()\n",
    "    fig.set_size_inches(18.5, 10.5)\n",
    "\n",
    "    plt.show()\n",
    "    return fig , G"
   ]
  },
  {
   "cell_type": "code",
   "execution_count": 3,
   "metadata": {
    "collapsed": false
   },
   "outputs": [],
   "source": [
    "def make_graph(cityname):\n",
    "    '''\n",
    "    takes city: makes graph\n",
    "    '''\n",
    "    data = pd.read_csv('data/uc_representative_list/'+cityname+'.csv')\n",
    "    data.fillna(' ', inplace=True)\n",
    "    data = data.ix[1:]\n",
    "    #Top 10\n",
    "    data = data.head(10)\n",
    "    graph = []\n",
    "    for i in range(0, len(data)):\n",
    "        graph.append(tuple([data.iloc[i,2], cityname ]))\n",
    "    return graph"
   ]
  },
  {
   "cell_type": "code",
   "execution_count": 6,
   "metadata": {
    "collapsed": false
   },
   "outputs": [],
   "source": [
    "graph1 = make_graph(\"islamabad\")\n",
    "graph2 = make_graph(\"lahore\")\n",
    "graph3 = make_graph(\"peshawar\")\n",
    "\n",
    "fig1 , g1 = draw_graph(graph1 , cityname=\"islamabad\")\n",
    "fig2 , g2 = draw_graph(graph2 , cityname=\"lahore\")\n",
    "fig3 , g3 = draw_graph(graph3 , cityname=\"peshawar\")\n",
    "\n",
    "#fig1.savefig('1_isb.png', dpi=100)\n",
    "#fig2.savefig('2_lhr.png', dpi=100)\n",
    "#fig3.savefig('3_pesh.png', dpi=100)\n",
    "\n",
    "#g1.add_edge(1,2)\n",
    "#g2.add_edge(1,2)\n",
    "\n",
    "#K = nx.compose(g1,g2)\n",
    "#graph_pos=nx.spectral_layout(K)\n",
    "\n",
    "# draw graph\n",
    "#nx.draw_networkx_nodes(K,graph_pos)\n",
    "#nx.draw_networkx_edges(K,graph_pos)\n",
    "#nx.draw_networkx_labels(K, graph_pos)\n",
    "\n",
    "\n",
    "#labels = range(len(K))\n",
    "\n",
    "#plt.title(\"Council's and chairmans\")\n",
    "#edge_labels = dict(zip(K, labels))\n",
    "#nx.draw_networkx_edge_labels(K, graph_pos )\n",
    "\n",
    "# show graph\n",
    "#fig = plt.gcf()\n",
    "#fig.set_size_inches(18.5, 10.5)\n",
    "#plt.show()"
   ]
  },
  {
   "cell_type": "markdown",
   "metadata": {
    "collapsed": true
   },
   "source": [
    "# TODO:\n",
    "\n",
    "###  Export to JSON for d3 js"
   ]
  },
  {
   "cell_type": "code",
   "execution_count": 5,
   "metadata": {
    "collapsed": false
   },
   "outputs": [
    {
     "data": {
      "text/plain": [
       "list"
      ]
     },
     "execution_count": 5,
     "metadata": {},
     "output_type": "execute_result"
    }
   ],
   "source": [
    "type(graph1)"
   ]
  },
  {
   "cell_type": "code",
   "execution_count": null,
   "metadata": {
    "collapsed": true
   },
   "outputs": [],
   "source": []
  }
 ],
 "metadata": {
  "kernelspec": {
   "display_name": "Python [Root]",
   "language": "python",
   "name": "Python [Root]"
  },
  "language_info": {
   "codemirror_mode": {
    "name": "ipython",
    "version": 2
   },
   "file_extension": ".py",
   "mimetype": "text/x-python",
   "name": "python",
   "nbconvert_exporter": "python",
   "pygments_lexer": "ipython2",
   "version": "2.7.11"
  }
 },
 "nbformat": 4,
 "nbformat_minor": 0
}
