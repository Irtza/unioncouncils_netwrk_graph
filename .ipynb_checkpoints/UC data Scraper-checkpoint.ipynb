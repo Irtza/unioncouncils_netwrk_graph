{
 "cells": [
  {
   "cell_type": "code",
   "execution_count": 3,
   "metadata": {
    "collapsed": true
   },
   "outputs": [],
   "source": [
    "import pandas as pd\n",
    "import urllib2"
   ]
  },
  {
   "cell_type": "code",
   "execution_count": 4,
   "metadata": {
    "collapsed": true
   },
   "outputs": [],
   "source": [
    "from bs4 import BeautifulSoup\n"
   ]
  },
  {
   "cell_type": "code",
   "execution_count": 15,
   "metadata": {
    "collapsed": false
   },
   "outputs": [
    {
     "name": "stdout",
     "output_type": "stream",
     "text": [
      "<class 'bs4.BeautifulSoup'>\n"
     ]
    }
   ],
   "source": [
    "cityname = 'islamabad'\n",
    "\n",
    "page = urllib2.urlopen('http://www.electionpakistani.com/local-government-bodies/'+cityname+'/union-council.html').read()\n",
    "soup = BeautifulSoup(page , \"lxml\")\n",
    "print type(soup)"
   ]
  },
  {
   "cell_type": "code",
   "execution_count": 40,
   "metadata": {
    "collapsed": false
   },
   "outputs": [],
   "source": [
    "p = soup.find_all('p')"
   ]
  },
  {
   "cell_type": "code",
   "execution_count": 47,
   "metadata": {
    "collapsed": false
   },
   "outputs": [
    {
     "data": {
      "text/plain": [
       "[<p style=\"text-align: justify\">\\n       Detail and complete information about Local Government Islamabad Union \\n\\t\\tCouncil election 2015. Local government election held in Islamabad on \\n\\t\\tNovember 30 , 2015 UC list . Result of all Chairman and Voice Chairman \\n\\t\\tof Union Council of Islamabad District, General councilor of all wards \\n\\t\\tof UC. Metropolitan Corporation Detail Result of Local bodies election , \\n\\t\\tthe complete election result with votes detail of all candidates \\n\\t\\tMetropolitan Corporation and Union Council Islamabad District. List of \\n\\t\\tUnion Council of District Islamabad . Result of all reserved seats for \\n\\t\\twoman , peasant , worker , youth and minority.The voters of UC will \\n\\t\\telect Chairman and Vice-Chairman of a Union Council as joint candidates \\n\\t\\t, six general members , two women , peasant or worker , One Youth and \\n\\t\\tone non Muslim member of UC .<br/>\\n\\xa0</p>,\n",
       " <p><font face=\"Verdana\" size=\"2\"><a href=\"uc1-saidpur.html\">\\n<span style=\"text-decoration: none\">Union Council No 1 Saidpur</span></a><br/>\\n<a href=\"uc-2-noorpur-shahan.html\"><span style=\"text-decoration: none\">Union Council No 2 Noorpur Shahan</span></a> <br/>\\n<a href=\"uc-3-malpur.html\"><span style=\"text-decoration: none\">Union Council No 3 Malpur</span></a><br/>\\n\\tUnion Council No 4 Kot Hathial North<br/>\\n<a href=\"uc-5-kot-hathial.html\"><span style=\"text-decoration: none\">Union \\n\\tCouncil No 5 Kot Hathial South</span></a><br/>\\n\\tUnion Council No 6 Phulgran<br/>\\n\\tUnion Council No 7 Pind Begowal<br/>\\n\\tUnion Council No 8 Tumair<br/>\\n\\tUnion Council No 9 Charah <br/>\\n\\tUnion Council No 10 Kirpa<br/>\\n\\tUnion Council No 11 Mughal<br/>\\n\\tUnion Council No 12 Rawat<br/>\\n\\tUnion Council No 13 Humak<br/>\\n\\tUnion Council No 14 Sihala<br/>\\n\\tUnion Council No 15 Loi Bher<br/>\\n\\tUnion Council No 16 Pagh &amp; Panwal<br/>\\n\\tUnion Council No 17 Koral<br/>\\n\\tUnion Council No 18 Khana Dak<br/>\\n\\tUnion Council No 19 Tarlai Kalan <br/>\\n\\tUnion Council No 20 Ali Pur<br/>\\n<a href=\"uc-21-sohan-dehati.html\"><span style=\"text-decoration: none\">Union Council No 21 Sohan Dehati</span></a><br/>\\n\\tUnion Council No 22 Chak Shahzad<br/>\\n\\tUnion Council No 23 Kuri<br/>\\n\\tUnion Council No 24 Rawal Town<br/>\\n\\tUnion Council No 25 F-6<br/>\\n\\tUnion Council No 26 G-6/1<br/>\\n\\tUnion Council No 27 G-6/2,3 &amp; 4<br/>\\n\\tUnion Council No 28 F-7,8,9 &amp; Jinnah Park<br/>\\n<a href=\"uc29-f-10-11.html\"><span style=\"text-decoration: none\">Union \\n\\tCouncil No 29 F-10 &amp; F- 11</span></a><br/>\\n<a href=\"uc-30-g-7.html\"><span style=\"text-decoration: none\">Union Council \\n\\tNo 30 G-7/3 &amp; G-7/4</span></a><br/>\\n\\tUnion Council No 31 G-7/1 &amp; 2<br/>\\n\\tUnion Council No 32 G-8/3 &amp; 4 <br/>\\n\\tUnion Council No 33 G-8/1 &amp; 2<br/>\\n\\tUnion Council No 34 G-9/1 ,3 &amp; 4<br/>\\n\\tUnion Council No 35 G-9/2 <br/>\\n\\tUnion Council No 36 G-10/3 &amp; 4 <br/>\\n<a href=\"uc-37-g-10.html\"><span style=\"text-decoration: none\">Union Council \\n\\tNo 37 G-10/1 &amp; 2</span></a><br/>\\n\\tUnion Council No 38 G-11/1,2,3 &amp; 4 <br/>\\n\\tUnion Council No 39 Maira Sumbal Jaffar<br/>\\n<a href=\"uc-40-i-8.html\"><span style=\"text-decoration: none\">Union Council No 40 I-8</span></a><br/>\\n<a href=\"uc-41-i9.html\"><span style=\"text-decoration: none\">Union Council No \\n\\t41 I-9</span></a><br/>\\n\\tUnion Council No 42 I-10/1 &amp; I-10/ 4<br/>\\n\\tUnion Council No 43 I- 10/2, 3 I-10/4 &amp; H-10<br/>\\n\\tUnion Council No 44 Bokra <br/>\\n\\tUnion Council No 45 Jhangi Saydan<br/>\\n\\tUnion Council No 46 Badhana Kalan<br/>\\n\\tUnion Council No 47 Tarnol<br/>\\n\\tUnion Council No 48 Sarai Kharbooza<br/>\\n\\tUnion Council No 49 Shah Allah Ditta <br/>\\n\\tUnion Council No 50 Golra Sharif\\xa0 </font></p>,\n",
       " <p style=\"text-align: center\"> <font face=\"Verdana\" size=\"1\">\\n\\t| <a href=\"/index.html\">Home Page</a> | <a href=\"/privacy-policy.html\">\\n\\tPrivacy Policy</a> | \\n\\t<a href=\"/disclaimer.html\">Disclaimer</a>\\n\\t|<br/>\\n<font color=\"#0B4D8C\">2012-2015 www.electionpakistani.com </font></font></p>]"
      ]
     },
     "execution_count": 47,
     "metadata": {},
     "output_type": "execute_result"
    }
   ],
   "source": [
    "p"
   ]
  },
  {
   "cell_type": "code",
   "execution_count": null,
   "metadata": {
    "collapsed": true
   },
   "outputs": [],
   "source": []
  }
 ],
 "metadata": {
  "kernelspec": {
   "display_name": "Python [Root]",
   "language": "python",
   "name": "Python [Root]"
  },
  "language_info": {
   "codemirror_mode": {
    "name": "ipython",
    "version": 2
   },
   "file_extension": ".py",
   "mimetype": "text/x-python",
   "name": "python",
   "nbconvert_exporter": "python",
   "pygments_lexer": "ipython2",
   "version": "2.7.11"
  }
 },
 "nbformat": 4,
 "nbformat_minor": 0
}
